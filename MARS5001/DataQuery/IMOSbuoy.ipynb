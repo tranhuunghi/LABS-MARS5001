{
 "cells": [
  {
   "cell_type": "markdown",
   "metadata": {
    "slideshow": {
     "slide_type": "slide"
    }
   },
   "source": [
    "# Analysing historical records and past models"
   ]
  },
  {
   "cell_type": "markdown",
   "metadata": {
    "slideshow": {
     "slide_type": "slide"
    }
   },
   "source": [
    "Access to historical records and past models is important to \n",
    "* evaluate global and local impacts of climate change & anthropogenic influences and \n",
    "* test and validate models. In the modelling area, this kind of approach is done  routinely to evaluate models performances (hindcast models).\n",
    "\n",
    "Here we will see how we can query historical data from a buoy located offshore of Sydney and how to get wave historical data from the WaveWatch3 model for Maroubra Beach (NSW-Australia). \n",
    "\n",
    "As for last notebbok, we will need the **netCDF** libray (<a ref='http://www.unidata.ucar.edu/netcdf/'>Network Common Data Form</a>) is a set of software libraries and self-describing, machine-independent data formats that support the creation, access, and sharing of array-oriented scientific data. The project homepage is hosted by the **Unidata** program at the University Corporation for Atmospheric Research (**UCAR**).\n",
    "\n",
    "Loading a module is straight forward:"
   ]
  },
  {
   "cell_type": "code",
   "execution_count": null,
   "metadata": {
    "collapsed": true
   },
   "outputs": [],
   "source": [
    "%matplotlib inline\n",
    "from pylab import *\n",
    "import netCDF4\n",
    "import datetime as dt"
   ]
  },
  {
   "cell_type": "markdown",
   "metadata": {
    "slideshow": {
     "slide_type": "slide"
    }
   },
   "source": [
    "# Historical buoy data\n",
    "\n",
    "We will use a dataset containing ocean wave data from a wave monitoring buoy moored off Sydney at latitude -33.775278, longitude 151.417778 and water depth 85 metres.  \n",
    "\n",
    "The data is gathered using the Directional Waverider system developed by the Dutch company, Datawell. The Directional Waverider buoy utilises a heave-pitch-roll sensor, two fixed X and Y accelerometers and a three axis fluxgate compass to measure both vertical and horizontal motion.  An on-board processor converts the buoy motion to three orthogonal (vertical, north-south, east-west) translation signals that are transmitted to the shore station.  The directional spectrum is also routinely transmitted to the receiving station for further processing.  The wave data is stored on the receiving station PC before routine transfer to Manly Hydraulics Laboratory."
   ]
  },
  {
   "cell_type": "code",
   "execution_count": null,
   "metadata": {
    "collapsed": false
   },
   "outputs": [],
   "source": [
    "# Offshore Sydney buoy data\n",
    "nc_data=netCDF4.Dataset('http://www.metoc.gov.au/thredds/dodsC/MHLWAVE/Sydney/IMOS_ANMN-NSW_W_20050215T020000Z_WAVESYD_FV01_END-20080312T210000Z.nc')"
   ]
  },
  {
   "cell_type": "markdown",
   "metadata": {
    "slideshow": {
     "slide_type": "slide"
    }
   },
   "source": [
    "## Query dataset\n",
    "\n",
    "Let have a look at the loaded netCDF variables"
   ]
  },
  {
   "cell_type": "code",
   "execution_count": null,
   "metadata": {
    "collapsed": false
   },
   "outputs": [],
   "source": [
    "nc_data.variables.keys()"
   ]
  },
  {
   "cell_type": "code",
   "execution_count": null,
   "metadata": {
    "collapsed": false
   },
   "outputs": [],
   "source": [
    "print nc_data.variables['HRMS']"
   ]
  },
  {
   "cell_type": "markdown",
   "metadata": {
    "slideshow": {
     "slide_type": "subslide"
    }
   },
   "source": [
    "## Find out time interval record\n",
    "\n",
    "Get the time extension of the gathered data..."
   ]
  },
  {
   "cell_type": "code",
   "execution_count": null,
   "metadata": {
    "collapsed": false
   },
   "outputs": [],
   "source": [
    "start = dt.datetime(1985,1,1)\n",
    "# Get desired time step  \n",
    "time_var = nc_data.variables['TIME']\n",
    "itime = netCDF4.date2index(start,time_var,select='nearest')\n",
    "dtime = netCDF4.num2date(time_var[itime],time_var.units)\n",
    "daystr = dtime.strftime('%Y-%b-%d %H:%M')\n",
    "print 'buoy record start time:',daystr"
   ]
  },
  {
   "cell_type": "code",
   "execution_count": null,
   "metadata": {
    "collapsed": false
   },
   "outputs": [],
   "source": [
    "end = dt.datetime(2018,1,1)\n",
    "# Get desired time step  \n",
    "time_var = nc_data.variables['TIME']\n",
    "itime2 = netCDF4.date2index(end,time_var,select='nearest')\n",
    "dtime2 = netCDF4.num2date(time_var[itime2],time_var.units)\n",
    "dayend = dtime2.strftime('%Y-%b-%d %H:%M')\n",
    "print 'buoy record end time:',dayend"
   ]
  },
  {
   "cell_type": "markdown",
   "metadata": {
    "collapsed": false,
    "slideshow": {
     "slide_type": "subslide"
    }
   },
   "source": [
    "## Buoy location\n",
    "\n",
    "Check the location of the data"
   ]
  },
  {
   "cell_type": "code",
   "execution_count": null,
   "metadata": {
    "collapsed": false
   },
   "outputs": [],
   "source": [
    "loni = nc_data.variables['LONGITUDE'][:]\n",
    "lati = nc_data.variables['LATITUDE'][:]\n",
    "print loni,lati\n",
    "names=[]\n",
    "names.append('Offshore Sydney Buoy')"
   ]
  },
  {
   "cell_type": "markdown",
   "metadata": {
    "slideshow": {
     "slide_type": "slide"
    }
   },
   "source": [
    "## Visualise buoy records\n",
    "\n",
    "Export for the hostorical time serie, the desired buoy variable, here I've used the mean wave height:"
   ]
  },
  {
   "cell_type": "code",
   "execution_count": null,
   "metadata": {
    "collapsed": true
   },
   "outputs": [],
   "source": [
    "times = nc_data.variables['TIME']\n",
    "jd_data = netCDF4.num2date(times[:],times.units).flatten()\n",
    "hm_data = nc_data.variables['HMEAN'][:].flatten()\n",
    "#hs_data = ma.masked_where(hs_data > 98., hs_data)"
   ]
  },
  {
   "cell_type": "markdown",
   "metadata": {},
   "source": [
    "Now plot the exported dataset"
   ]
  },
  {
   "cell_type": "code",
   "execution_count": null,
   "metadata": {
    "collapsed": false,
    "scrolled": true
   },
   "outputs": [],
   "source": [
    "# make the time series plot, with nicely formatted labels\n",
    "MyDateFormatter = DateFormatter('%Y-%b-%d')\n",
    "fig = plt.figure(figsize=(8,6), dpi=80) \n",
    "ax1 = fig.add_subplot(111)\n",
    "\n",
    "ax1.plot(jd_data[itime:itime2],hm_data[itime:itime2]) \n",
    "ax1.xaxis.set_major_locator(WeekdayLocator(byweekday=MO,interval=12))\n",
    "ax1.xaxis.set_major_formatter(MyDateFormatter)\n",
    "ax1.grid(True)\n",
    "setp(gca().get_xticklabels(), rotation=45, horizontalalignment='right')\n",
    "plt.title('IMOS Offshore Sydney Buoy Data')\n",
    "ax1.set_ylabel('meters')\n",
    "ax1.legend(names,loc='upper right')"
   ]
  },
  {
   "cell_type": "markdown",
   "metadata": {
    "slideshow": {
     "slide_type": "slide"
    }
   },
   "source": [
    "# Query historic model data for a specific location\n",
    "\n",
    "We use data from WW3 model. \n",
    "Description of the Wavewatch3 model can be found <a href='http://polar.ncep.noaa.gov/waves/wavewatch/'>here</a>.\n",
    "\n",
    "<img src='http://www.worldwindsinc.com/wp-content/uploads/2012/12/wavewatch.png', width=600>"
   ]
  },
  {
   "cell_type": "markdown",
   "metadata": {
    "slideshow": {
     "slide_type": "slide"
    }
   },
   "source": [
    "# Loading historical model output\n",
    "\n",
    "Load the netCDF data from the wavewatch-3 model and query the variables which are embedded in the dataset"
   ]
  },
  {
   "cell_type": "code",
   "execution_count": null,
   "metadata": {
    "collapsed": false
   },
   "outputs": [],
   "source": [
    "#OCEAN FORECAST MODEL WW3\n",
    "nc_data=netCDF4.Dataset('http://134.178.63.198/thredds/dodsC/paccsapwaves_gridded/ww3.glob_24m.199801.nc')"
   ]
  },
  {
   "cell_type": "code",
   "execution_count": null,
   "metadata": {
    "collapsed": false
   },
   "outputs": [],
   "source": [
    "nc_data.variables.keys()"
   ]
  },
  {
   "cell_type": "code",
   "execution_count": null,
   "metadata": {
    "collapsed": false
   },
   "outputs": [],
   "source": [
    "print nc_data.variables['t']"
   ]
  },
  {
   "cell_type": "markdown",
   "metadata": {
    "slideshow": {
     "slide_type": "slide"
    }
   },
   "source": [
    "## Find out time interval record\n",
    "\n",
    "Get the time extension of the gathered data"
   ]
  },
  {
   "cell_type": "code",
   "execution_count": null,
   "metadata": {
    "collapsed": false
   },
   "outputs": [],
   "source": [
    "start = dt.datetime(1980,1,1)\n",
    "# Get desired time step  \n",
    "time_var = nc_data.variables['time']\n",
    "itime = netCDF4.date2index(start,time_var,select='nearest')\n",
    "dtime = netCDF4.num2date(time_var[itime],time_var.units)\n",
    "daystart = dtime.strftime('%Y-%b-%d %H:%M')\n",
    "print 'WW3 dataset start time:',daystart"
   ]
  },
  {
   "cell_type": "code",
   "execution_count": null,
   "metadata": {
    "collapsed": false
   },
   "outputs": [],
   "source": [
    "end = dt.datetime(2018,1,1)\n",
    "# Get desired time step  \n",
    "time_var = nc_data.variables['time']\n",
    "itime2 = netCDF4.date2index(end,time_var,select='nearest')\n",
    "dtime2 = netCDF4.num2date(time_var[itime2],time_var.units)\n",
    "dayend = dtime2.strftime('%Y-%b-%d %H:%M')\n",
    "print 'WW3 dataset end time:', dayend"
   ]
  },
  {
   "cell_type": "markdown",
   "metadata": {
    "slideshow": {
     "slide_type": "subslide"
    }
   },
   "source": [
    "## Find historical WW3 prediction for a specific localtion\n",
    "\n",
    "Define the longitude and latitude of Maroubra Beach"
   ]
  },
  {
   "cell_type": "code",
   "execution_count": null,
   "metadata": {
    "collapsed": true
   },
   "outputs": [],
   "source": [
    "maroubra_lon=[151.25750340000002]\n",
    "maroubra_lat=[-33.947314899999]"
   ]
  },
  {
   "cell_type": "code",
   "execution_count": null,
   "metadata": {
    "collapsed": true
   },
   "outputs": [],
   "source": [
    "# Function to find index to nearest point\n",
    "def near(array,value):\n",
    "    idx=(abs(array-value)).argmin()\n",
    "    return idx"
   ]
  },
  {
   "cell_type": "markdown",
   "metadata": {},
   "source": [
    "Find the row and column number corresponding to the nearest WW3 model grid point to the requested location"
   ]
  },
  {
   "cell_type": "code",
   "execution_count": null,
   "metadata": {
    "collapsed": false
   },
   "outputs": [],
   "source": [
    "lon_model=nc_data.variables['longitude'][:].flatten()\n",
    "lat_model=nc_data.variables['latitude'][:].flatten()\n",
    "ix = near(lon_model, maroubra_lon)\n",
    "iy = near(lat_model, maroubra_lat)\n",
    "print ix, iy"
   ]
  },
  {
   "cell_type": "markdown",
   "metadata": {
    "slideshow": {
     "slide_type": "subslide"
    }
   },
   "source": [
    "### Extract WW3 data for Maroubra beach\n",
    "\n",
    "Extract the significant wave height from the WW3 model for this particular point"
   ]
  },
  {
   "cell_type": "code",
   "execution_count": null,
   "metadata": {
    "collapsed": false
   },
   "outputs": [],
   "source": [
    "times = nc_data.variables['time']\n",
    "jd_model = netCDF4.num2date(times[:],times.units)\n",
    "hs_model = nc_data.variables['hs'][:,ix,iy]\n",
    "istart_model = netCDF4.date2index(start,times,select='nearest')\n",
    "istop_model = netCDF4.date2index(end,times,select='nearest')"
   ]
  },
  {
   "cell_type": "markdown",
   "metadata": {},
   "source": [
    "We have everything to plot the time serie:"
   ]
  },
  {
   "cell_type": "code",
   "execution_count": null,
   "metadata": {
    "collapsed": false
   },
   "outputs": [],
   "source": [
    "# make the time series plot, with nicely formatted labels\n",
    "MyDateFormatter = DateFormatter('%Y-%b-%d')\n",
    "fig = plt.figure(figsize=(5,5), dpi=80) \n",
    "ax1 = fig.add_subplot(111)\n",
    "\n",
    "names=[]\n",
    "names.append('Maroubra')\n",
    "\n",
    "#ax1.plot(jd_data[istart:istop],hs_data[istart:istop]) \n",
    "ax1.plot(jd_model[istart_model:istop_model],hs_model[istart_model:istop_model])\n",
    "#ax1.plot(jd_mod2[istart_mod2:istop_mod2],hs_mod2[istart_mod2:istop_mod2])\n",
    "ax1.xaxis.set_major_locator(WeekdayLocator(byweekday=MO))\n",
    "ax1.xaxis.set_major_formatter(MyDateFormatter)\n",
    "ax1.grid(True)\n",
    "setp(gca().get_xticklabels(), rotation=45, horizontalalignment='right')\n",
    "plt.title('WAVEWATCH III model')\n",
    "ax1.set_ylabel('meters')\n",
    "ax1.legend(names,loc='upper right')"
   ]
  }
 ],
 "metadata": {
  "kernelspec": {
   "display_name": "Python 2",
   "language": "python",
   "name": "python2"
  },
  "language_info": {
   "codemirror_mode": {
    "name": "ipython",
    "version": 2
   },
   "file_extension": ".py",
   "mimetype": "text/x-python",
   "name": "python",
   "nbconvert_exporter": "python",
   "pygments_lexer": "ipython2",
   "version": "2.7.6"
  }
 },
 "nbformat": 4,
 "nbformat_minor": 0
}
