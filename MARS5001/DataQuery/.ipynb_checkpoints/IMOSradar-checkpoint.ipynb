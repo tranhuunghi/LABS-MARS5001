{
 "cells": [
  {
   "cell_type": "markdown",
   "metadata": {
    "slideshow": {
     "slide_type": "slide"
    }
   },
   "source": [
    "# IMOS Ocean Radar Data Query"
   ]
  },
  {
   "cell_type": "markdown",
   "metadata": {
    "slideshow": {
     "slide_type": "subslide"
    }
   },
   "source": [
    "## Installing modules\n",
    "\n",
    "A module is a Python object with arbitrarily named attributes that you can bind and reference. A module is a fit-2-purpose piece of code which defines \n",
    "\n",
    "+ functions, \n",
    "+ classes, \n",
    "+ variables, \n",
    "+ a runnable code.\n",
    "\n",
    "Installing a module is usually done using Python Package Installer: <code>pip</code>. \n",
    "\n",
    "Loading a module is straight forward:"
   ]
  },
  {
   "cell_type": "code",
   "execution_count": 3,
   "metadata": {
    "collapsed": false,
    "scrolled": true
   },
   "outputs": [],
   "source": [
    "%matplotlib inline\n",
    "from netCDF4 import Dataset\n",
    "from netCDF4 import num2date\n",
    "from IPython.core.display import HTML\n",
    "import matplotlib.pyplot "
   ]
  },
  {
   "cell_type": "markdown",
   "metadata": {
    "slideshow": {
     "slide_type": "subslide"
    }
   },
   "source": [
    "# Data server = Data access ;-)"
   ]
  },
  {
   "cell_type": "code",
   "execution_count": null,
   "metadata": {
    "collapsed": false
   },
   "outputs": [],
   "source": [
    "from IPython.display import YouTubeVideo\n",
    "YouTubeVideo('7yTpv70gkGE')"
   ]
  },
  {
   "cell_type": "markdown",
   "metadata": {
    "slideshow": {
     "slide_type": "subslide"
    }
   },
   "source": [
    "## In a nutshell...\n",
    "\n",
    "* Data access is provided via **HTTP** and **OPeNDAP** by **THREDDS** Data Server and **FTP**. \n",
    "* Most data providers are using interactive visualization of data sets with zoomable maps. Sometimes you can even find time series and sections from **LAS**.\n",
    "<br/>\n",
    "<br/>\n",
    "\n",
    "\n",
    "## It sounds a bit like a French guy talking in english... I know!\n",
    "\n",
    "<br/>\n",
    "#### HTTP: Hypertext Transfer Protocol\n",
    "#### OPenDAP: Open-source Project for a Network Data Access Protocol\n",
    "#### THREDDS: Thematic Real-Time Environmental Distributed Data Services\n",
    "#### FTP: File Transfer Protocol\n",
    "#### LAS: Live Access Server"
   ]
  },
  {
   "cell_type": "markdown",
   "metadata": {
    "slideshow": {
     "slide_type": "subslide"
    }
   },
   "source": [
    "## Main ocean data providers in Australia:\n",
    "\n",
    "#### AODN: Australian Ocean Data Network\n",
    "\n",
    "#### IMOS:  Integrated Marine Observing System\n",
    "\n",
    "#### BOM\n",
    "\n",
    "#### GA\n",
    "\n",
    "#### CSIRO\n",
    "\n",
    "<br/>\n",
    "\n",
    "## Globally\n",
    "\n",
    "#### NOAA (US)\n",
    "\n",
    "#### (Euro)GOOS"
   ]
  },
  {
   "cell_type": "markdown",
   "metadata": {
    "slideshow": {
     "slide_type": "slide"
    }
   },
   "source": [
    "# Query IMOS ACORN (Australian Coastal Ocean Radar Network)\n",
    "\n",
    "\n",
    "<small>\n",
    "**Acknowlegement** &mdash; This  is based on the teaching material compiled by <a href:'https://github.com/DamienIrving/CV/blob/master/CV.md'>Damien Irving</a>.\n",
    "</small>\n",
    "\n",
    "\n",
    "<img src=\"http://imos.org.au/fileadmin/_processed_/csm_Collage01_web_c682500591.png\" width=1000>"
   ]
  },
  {
   "cell_type": "code",
   "execution_count": 4,
   "metadata": {
    "collapsed": false,
    "scrolled": true,
    "slideshow": {
     "slide_type": "slide"
    }
   },
   "outputs": [
    {
     "data": {
      "text/html": [
       "<iframe src=http://help.aodn.org.au/help/?q=node/11 width=1000 height=500></iframe>"
      ],
      "text/plain": [
       "<IPython.core.display.HTML object>"
      ]
     },
     "execution_count": 4,
     "metadata": {},
     "output_type": "execute_result"
    }
   ],
   "source": [
    "HTML('<iframe src=http://help.aodn.org.au/help/?q=node/11 width=1000 height=500></iframe>')"
   ]
  },
  {
   "cell_type": "code",
   "execution_count": null,
   "metadata": {
    "collapsed": true
   },
   "outputs": [],
   "source": []
  },
  {
   "cell_type": "markdown",
   "metadata": {
    "slideshow": {
     "slide_type": "subslide"
    }
   },
   "source": [
    "## Import IPython Modules\n",
    "\n",
    "We will need **netCDF** libray (<a ref='http://www.unidata.ucar.edu/netcdf/'>Network Common Data Form</a>) is a set of software libraries and self-describing, machine-independent data formats that support the creation, access, and sharing of array-oriented scientific data. The project homepage is hosted by the **Unidata** program at the University Corporation for Atmospheric Research (**UCAR**)."
   ]
  },
  {
   "cell_type": "code",
   "execution_count": 7,
   "metadata": {
    "collapsed": false
   },
   "outputs": [],
   "source": [
    "%matplotlib inline\n",
    "from netCDF4 import Dataset\n",
    "from netCDF4 import num2date\n",
    "from matplotlib.pyplot import figure, pcolor, colorbar, xlabel, ylabel, title, draw, quiver, show"
   ]
  },
  {
   "cell_type": "markdown",
   "metadata": {
    "slideshow": {
     "slide_type": "subslide"
    }
   },
   "source": [
    "## Get the data from IMOS"
   ]
  },
  {
   "cell_type": "code",
   "execution_count": 8,
   "metadata": {
    "collapsed": false
   },
   "outputs": [],
   "source": [
    "# Turquoise bay\n",
    "acorn_URL = 'http://thredds.aodn.org.au/thredds/dodsC/IMOS/eMII/demos/ACORN/monthly_gridded_1h-avg-current-map_non-QC/TURQ/2012/IMOS_ACORN_V_20121001T000000Z_TURQ_FV00_monthly-1-hour-avg_END-20121029T180000Z_C-20121030T160000Z.nc.gz'\n",
    "# Other ACORN data as an example:\n",
    "# South Australia Gulf\n",
    "#acorn_URL = 'http://thredds.aodn.org.au/thredds/dodsC/IMOS/ACORN/monthly_gridded_1h-avg-current-map_non-QC/SAG/2015/IMOS_ACORN_V_20150101T003000Z_SAG_FV00_monthly-1-hour-avg_END-20150131T233000Z_C-20150201T235953Z.nc'\n",
    "# Bonney Coast\n",
    "#acorn_URL = 'http://thredds.aodn.org.au/thredds/dodsC/IMOS/ACORN/monthly_gridded_1h-avg-current-map_non-QC/BONC/2015/IMOS_ACORN_V_20150101T000000Z_BONC_FV00_monthly-1-hour-avg_END-20150131T190000Z_C-20150202T000206Z.nc'\n",
    "\n",
    "acorn_DATA = Dataset(acorn_URL)"
   ]
  },
  {
   "cell_type": "markdown",
   "metadata": {
    "slideshow": {
     "slide_type": "-"
    }
   },
   "source": [
    "The first thing to notice is the distinctive **Data Reference Syntax** (DRS) associated with the file. The staff at IMOS have archived the data according to the following directory structure:\n",
    "\n",
    "**http://thredds.aodn.org.au/thredds/dodsC/project/organisation/collection/facility/data-type/site-code/year/**\n",
    "\n",
    "From this we can deduce, without even inspecting the contents of the file, that we have data from the IMOS project that is run by the eMarine Information Infrastructure (eMII). It was collected in 2012 at the Turquoise Coast, Western Australia (TURQ) site of the Australian Coastal Ocean Radar Network (ACORN), which is a network of high frequency radars that measure the ocean surface current (see this <a href='http://researchdata.ands.org.au/imos-acorn-turquoise-australia-australia/442676'>page</a> on the Research Data Australia website for a nice overview of the dataset).\n",
    "\n",
    "<br/>\n",
    "<small>While it's unlikely that your research will ever involve cataloging data from such a large observational network, it's still a very good idea to develop your own personal DRS for the data you do have. This often involves investing some time at the beginning of a project to think carefully about the design of your directory and file name structures, as these can be very hard to change later on (a good example is the <a ref='http://cmip-pcmdi.llnl.gov/cmip5/docs/cmip5_data_reference_syntax.pdf'>DRS</a> used by the Climate Model Intercomparison Project). The combination of bash shell wildcards and a well planned DRS is one of the easiest ways to make your research more efficient and reliable.\n",
    "</small>\n",
    "\n"
   ]
  },
  {
   "cell_type": "markdown",
   "metadata": {
    "slideshow": {
     "slide_type": "notes"
    }
   },
   "source": [
    "The data type has a sub-DRS of its own, which tells us that the data represents the 1-hourly average surface current for a single month (October 2012), and that it is archived on a regularly spaced spatial grid and has not been quality controlled. The file is located in the \"demos\" directory, as it has been generated for the purpose of providing an example for users in the very helpful <a ref='http://portal.aodn.org.au/aodn/'>Australian Ocean Data Network</a> (AODN) <a href='https://github.com/aodn/imos-user-code-library'> user code library</a>.\n",
    "\n",
    "Just in case the file gets separated from this informative directory stucture, much of the information is repeated in the file name itself, along with some more detailed information about the start and end time of the data, and the last time the file was modified.\n",
    "\n",
    "**project_facility_V_time-start_site-code_FV00_data-type_time-end_modified.nc.gz**\n",
    "\n",
    "In the first instance this level of detail seems like a bit of overkill, but consider the scope of the IMOS data archive. It is the final resting place for data collected by the entire national array of oceanographic observing equipment in Australia, which monitors the open oceans and coastal marine environment covering physical, chemical and biological variables. Since the data are so well labelled, locating all monthly timescale ACORN data from the Turquoise Coast and Rottnest Shelf sites (which represents hundreds of files) would be as simple as typing the following at the command line:\n",
    "\n",
    "**ls */ACORN/monthly_*/{TURQ,ROT}/\\*/\\*.nc**"
   ]
  },
  {
   "cell_type": "markdown",
   "metadata": {
    "slideshow": {
     "slide_type": "slide"
    }
   },
   "source": [
    "## Check the loaded ACORN dataset"
   ]
  },
  {
   "cell_type": "code",
   "execution_count": 9,
   "metadata": {
    "collapsed": false,
    "slideshow": {
     "slide_type": "subslide"
    }
   },
   "outputs": [
    {
     "name": "stdout",
     "output_type": "stream",
     "text": [
      "<type 'netCDF4.Dataset'>\n",
      "root group (NETCDF3_CLASSIC data model, file format UNDEFINED):\n",
      "    project: Integrated Marine Observing System (IMOS)\n",
      "    Conventions: IMOS version 1.3\n",
      "    institution: Australian Coastal Ocean Radar Network (ACORN)\n",
      "    title: IMOS ACORN Turquoise Coast site (WA) (TURQ), monthly aggregation of one hour averaged current data\n",
      "    instrument: CODAR Ocean Sensors/SeaSonde\n",
      "    site_code: TURQ, Turqoise Coast\n",
      "    ssr_Stations: SeaBird (SBRD), Cervantes (CRVT)\n",
      "    id: IMOS/ACORN/au/TURQ/2012-10-08T15:00:00Z.sea_state\n",
      "    date_created: 2012-10-30T16:31:50Z\n",
      "    abstract: These data have not been quality controlled. The ACORN facility is producing NetCDF files with radials data for each station every ten minutes.  Radials represent the surface sea water state component  along the radial direction from the receiver antenna  and are calculated from the shift of an area under  the bragg peaks in a Beam Power Spectrum.  The radial values have been calculated using software provided  by the manufacturer of the instrument. eMII is using a Matlab program to read all the netcdf files with radial data for two different stations  and produce a one hour average product with U and V components of the current. The final product is produced on a regular geographic (latitude longitude) grid More information on the data processing is available through the IMOS MEST  http://imosmest.aodn.org.au/geonetwork/srv/en/main.home. This file is an aggregation over a month of distinct hourly averaged files.\n",
      "    history: 2012-10-09T03:31:35 Convert totl_TURQ_2012_10_08_1500.tuv to netcdf format using CODAR_Convert_File.\n",
      "2012-10-09T03:31:36 Write CODAR file totl_TURQ_2012_10_08_1500.tuv. Modification of the NetCDF format by eMII to visualise the data using ncWMS �\n",
      "\t0x0006 %\n",
      "    source: Terrestrial HF radar\n",
      "    keywords: Oceans\n",
      "    netcdf_version: 3.6\n",
      "    naming_authority: Integrated Marine Observing System (IMOS)\n",
      "    quality_control_set: 1\n",
      "    file_version: Level 0 - Raw data\n",
      "    file_version_quality_control: Data in this file has not been quality controlled\n",
      "    geospatial_lat_min: [-29.5386582 -29.5927878 -29.6469169 -29.7010456 -29.7551738 -29.8093016\n",
      " -29.863429  -29.9175559 -29.9716823 -30.0258084 -30.0799339 -30.1340591\n",
      " -30.1881837 -30.242308  -30.2964318 -30.3505551 -30.404678  -30.4588004\n",
      " -30.5129224 -30.5670439 -30.621165  -30.6752857 -30.7294059 -30.7835256\n",
      " -30.8376449 -30.8917637 -30.9458821 -31.        -31.0541175 -31.1082345\n",
      " -31.162351  -31.2164671 -31.2705828 -31.324698  -31.3788127 -31.432927\n",
      " -31.4870408 -31.5411542 -31.5952671 -31.6493795 -31.7034915 -31.7576031\n",
      " -31.8117141 -31.8658247 -31.9199349 -31.9740446 -32.0281538 -32.0822625\n",
      " -32.1363708 -32.1904787 -32.244586  -32.2986929 -32.3527994 -32.4069054\n",
      " -32.4610109]\n",
      "    geospatial_lat_max: [-29.5252994 -29.5794147 -29.6335296 -29.687644  -29.741758  -29.7958715\n",
      " -29.8499845 -29.904097  -29.9582091 -30.0123207 -30.0664318 -30.1205425\n",
      " -30.1746527 -30.2287624 -30.2828717 -30.3369805 -30.3910888 -30.4451966\n",
      " -30.499304  -30.5534109 -30.6075173 -30.6616232 -30.7157287 -30.7698337\n",
      " -30.8239382 -30.8780423 -30.9321458 -30.9862489 -31.0403515 -31.0944536\n",
      " -31.1485553 -31.2026564 -31.2567571 -31.3108573 -31.364957  -31.4190563\n",
      " -31.473155  -31.5272533 -31.5813511 -31.6354484 -31.6895452 -31.7436416\n",
      " -31.7977374 -31.8518328 -31.9059277 -31.960022  -32.0141159 -32.0682094\n",
      " -32.1223023 -32.1763947 -32.2304867 -32.2845781 -32.3386691 -32.3927596\n",
      " -32.4468495]\n",
      "    geospatial_lat_units: degrees_north\n",
      "    geospatial_lon_min: [ 112.3100111  112.3090067  112.3080002  112.3069914  112.3059805\n",
      "  112.3049674  112.3039521  112.3029346  112.3019149  112.3008929\n",
      "  112.2998688  112.2988424  112.2978139  112.2967831  112.29575\n",
      "  112.2947147  112.2936772  112.2926374  112.2915953  112.290551\n",
      "  112.2895044  112.2884556  112.2874044  112.286351   112.2852953\n",
      "  112.2842373  112.283177   112.2821143  112.2810494  112.2799821\n",
      "  112.2789125  112.2778406  112.2767663  112.2756897  112.2746108\n",
      "  112.2735294  112.2724458  112.2713597  112.2702713  112.2691805\n",
      "  112.2680873  112.2669917  112.2658937  112.2647933  112.2636905\n",
      "  112.2625853  112.2614777  112.2603676  112.2592551  112.2581402\n",
      "  112.2570228  112.2559029  112.2547806  112.2536558  112.2525286]\n",
      "    geospatial_lon_max: [ 115.7758038  115.7766744  115.7775469  115.7784212  115.7792975\n",
      "  115.7801756  115.7810557  115.7819376  115.7828215  115.7837073\n",
      "  115.784595   115.7854846  115.7863762  115.7872697  115.7881651\n",
      "  115.7890625  115.7899618  115.7908631  115.7917663  115.7926715\n",
      "  115.7935787  115.7944878  115.7953989  115.796312   115.7972271\n",
      "  115.7981441  115.7990632  115.7999843  115.8009074  115.8018325\n",
      "  115.8027596  115.8036887  115.8046199  115.8055531  115.8064883\n",
      "  115.8074256  115.8083649  115.8093063  115.8102497  115.8111952\n",
      "  115.8121427  115.8130924  115.8140441  115.8149979  115.8159538\n",
      "  115.8169118  115.8178719  115.8188341  115.8197984  115.8207648\n",
      "  115.8217334  115.822704   115.8236768  115.8246518  115.8256289]\n",
      "    geospatial_lon_units: degrees_east\n",
      "    geospatial_vertical_min: 0.0\n",
      "    geospatial_vertical_max: 0.0\n",
      "    geospatial_vertical_units: m\n",
      "    time_coverage_start: 2012-10-01T00:00:00Z\n",
      "    time_coverage_duration: PT1H19M\n",
      "    local_time_zone: 8.0\n",
      "    data_centre_email: info@emii.org.au\n",
      "    data_centre: eMarine Information Infrastructure (eMII)\n",
      "    author: Besnard, Laurent\n",
      "    author_email: laurent.besnard@utas.edu.au\n",
      "    institution_references: http://www.imos.org.au/acorn.html\n",
      "    principal_investigator: Wyatt, Lucy\n",
      "    citation: Citation to be used in publications should follow the format:\"IMOS.[year-of-data-download],[Title],[Data access URL],accessed [date-of-access]\"\n",
      "    acknowledgment: Data was sourced from the Integrated Marine Observing System (IMOS) - IMOS is supported by the Australian Government through the National Collaborative Research Infrastructure Strategy (NCRIS) and the Super Science Initiative (SSI).\n",
      "    distribution_statement: Data may be re-used, provided that related metadata explaining the data has been reviewed by the user, and the data is appropriately acknowledged. Data, products and services from IMOS are provided \"as is\" without any warranty as to fitness for a particular purpose.\n",
      "    comment: These data have not been quality controlled. They represent values calculated using software provided by CODAR Ocean Sensors. The file has been modified by eMII in order to visualise the data using the ncWMS software.This NetCDF file has been created using the IMOS NetCDF User Manual v1.2. A copy of the document is available at http://imos.org.au/facility_manuals.html\n",
      "    data_center: eMarine Information Infrastructure (eMII)\n",
      "    date_modified: 2012-10-30T16:31:50Z\n",
      "    time_coverage_end: 2012-10-29T18:00:00Z\n",
      "    featureType: grid\n",
      "    data_center_email: info@emii.org.au\n",
      "    acknowledgement: Data was sourced from Integrated Marine Observing System (IMOS) - an initiative of the Australian Government being conducted as part of the National Calloborative Research Infrastructure Strategy.\n",
      "    dimensions(sizes): I(55), J(57), TIME(493)\n",
      "    variables(dimensions): float64 \u001b[4mLATITUDE\u001b[0m(I,J), float64 \u001b[4mLONGITUDE\u001b[0m(I,J), int8 \u001b[4mLATITUDE_quality_control\u001b[0m(I,J), int8 \u001b[4mLONGITUDE_quality_control\u001b[0m(I,J), float64 \u001b[4mTIME\u001b[0m(TIME), float32 \u001b[4mSPEED\u001b[0m(TIME,I,J), float32 \u001b[4mUCUR\u001b[0m(TIME,I,J), float32 \u001b[4mVCUR\u001b[0m(TIME,I,J), int8 \u001b[4mTIME_quality_control\u001b[0m(TIME), int8 \u001b[4mSPEED_quality_control\u001b[0m(TIME,I,J), int8 \u001b[4mUCUR_quality_control\u001b[0m(TIME,I,J), int8 \u001b[4mVCUR_quality_control\u001b[0m(TIME,I,J)\n",
      "    groups: \n",
      "\n"
     ]
    }
   ],
   "source": [
    "print acorn_DATA"
   ]
  },
  {
   "cell_type": "markdown",
   "metadata": {
    "collapsed": true,
    "slideshow": {
     "slide_type": "subslide"
    }
   },
   "source": [
    "## With Python: query the dataset\n",
    "\n",
    "The great thing about netCDF files is that they contain <a href=http://en.wikipedia.org/wiki/Metadata>metadata</a> - that is, data about the data. There are global attributes that give information about the file as a whole, while each variable also has its own attributes."
   ]
  },
  {
   "cell_type": "code",
   "execution_count": 10,
   "metadata": {
    "collapsed": false
   },
   "outputs": [
    {
     "name": "stdout",
     "output_type": "stream",
     "text": [
      "The file contains the following variables:\n",
      "[u'LATITUDE', u'LONGITUDE', u'LATITUDE_quality_control', u'LONGITUDE_quality_control', u'TIME', u'SPEED', u'UCUR', u'VCUR', u'TIME_quality_control', u'SPEED_quality_control', u'UCUR_quality_control', u'VCUR_quality_control']\n"
     ]
    }
   ],
   "source": [
    "print 'The file contains the following variables:'\n",
    "print acorn_DATA.variables.keys()"
   ]
  },
  {
   "cell_type": "markdown",
   "metadata": {
    "collapsed": false
   },
   "source": [
    "The 'u' means each variable name is represented by a Unicode string."
   ]
  },
  {
   "cell_type": "code",
   "execution_count": 11,
   "metadata": {
    "collapsed": false
   },
   "outputs": [
    {
     "name": "stdout",
     "output_type": "stream",
     "text": [
      "These are the attributes of the time axis:\n",
      "<type 'netCDF4.Variable'>\n",
      "float64 TIME(TIME)\n",
      "    standard_name: time\n",
      "    long_name: time\n",
      "    units: days since 1950-01-01 00:00:00\n",
      "    axis: T\n",
      "    valid_min: 0.0\n",
      "    valid_max: 999999.0\n",
      "    _FillValue: -9999.0\n",
      "    calendar: gregorian\n",
      "    comment: Given time lays at the middle of the averaging time period.\n",
      "    local_time_zone: 8.0\n",
      "unlimited dimensions: \n",
      "current shape = (493,)\n",
      "filling off\n",
      "\n",
      "These are some of the time values:\n",
      "[ 22919.          22919.04166667  22919.08333333  22919.125       22919.16666667\n",
      "  22919.20833333  22919.25        22919.29166667  22919.33333333  22919.375     ]\n"
     ]
    }
   ],
   "source": [
    "print 'These are the attributes of the time axis:'\n",
    "print acorn_DATA.variables['TIME']\n",
    "print 'These are some of the time values:'\n",
    "print acorn_DATA.variables['TIME'][0:10]"
   ]
  },
  {
   "cell_type": "markdown",
   "metadata": {
    "collapsed": true
   },
   "source": [
    "The raw time values are fairly meaningless, but we can use the time attributes to convert them to a more meaningful format..."
   ]
  },
  {
   "cell_type": "code",
   "execution_count": 19,
   "metadata": {
    "collapsed": false
   },
   "outputs": [
    {
     "name": "stdout",
     "output_type": "stream",
     "text": [
      "[datetime.datetime(2012, 10, 1, 0, 0, tzinfo=tzutc())\n",
      " datetime.datetime(2012, 10, 1, 1, 0, tzinfo=tzutc())\n",
      " datetime.datetime(2012, 10, 1, 2, 0, tzinfo=tzutc())\n",
      " datetime.datetime(2012, 10, 1, 3, 0, tzinfo=tzutc())\n",
      " datetime.datetime(2012, 10, 1, 4, 0, tzinfo=tzutc())\n",
      " datetime.datetime(2012, 10, 1, 5, 0, tzinfo=tzutc())\n",
      " datetime.datetime(2012, 10, 1, 6, 0, tzinfo=tzutc())\n",
      " datetime.datetime(2012, 10, 1, 7, 0, tzinfo=tzutc())\n",
      " datetime.datetime(2012, 10, 1, 8, 0, tzinfo=tzutc())\n",
      " datetime.datetime(2012, 10, 1, 9, 0, tzinfo=tzutc())]\n"
     ]
    }
   ],
   "source": [
    "units = acorn_DATA.variables['TIME'].units\n",
    "calendar = acorn_DATA.variables['TIME'].calendar\n",
    "\n",
    "times = num2date(acorn_DATA.variables['TIME'][:], units=units, calendar=calendar)\n",
    "print times[0:10]"
   ]
  },
  {
   "cell_type": "markdown",
   "metadata": {
    "collapsed": false,
    "slideshow": {
     "slide_type": "notes"
    }
   },
   "source": [
    "<blockquote>\n",
    "    <h2>Climate and Forecast (CF) metadata convention</h2>\n",
    "    <p>When performing simple data analysis tasks on netCDF files, command line tools like the Climate Data Operators (<a href=\"https://code.zmaw.de/projects/cdo\">CDO</a>) are often a better alternative to writing your own functions in Python. However, let's put ourselves in the shoes of the developers of CDO for a minute. In order to calculate the time mean of a dataset for a given start and end date (for example), CDO must first identify the units of the time axis. This isn't as easy as you'd think, since the creator of the netCDF file could easily have called the units attribute measure, or scale, or something else completely unpredictable. They could also have defined the units as weeks since 1-01-01 00:00:00 or milliseconds after 1979-12-31. Obviously what is needed is a standard method for defining netCDF attributes, and that’s where the <a href='http://cf-pcmdi.llnl.gov/'>Climate and Forecast (CF) metadata convention</a> comes in.</p>\n",
    "    <p>The CF metadata standard was first defined back in the early 2000s and has now been adopted by all the major institutions and projects in the weather/climate sciences. There's a nice <a href='http://drclimate.wordpress.com/2014/06/09/are-you-cf-compliant/'>blog post</a> on the topic if you'd like more information, but for the most part you just need to be aware that if a tool like CDO isn't working, it might be because your netCDF file isn't CF compliant.</p>\n",
    "</blockquote>"
   ]
  },
  {
   "cell_type": "markdown",
   "metadata": {
    "collapsed": false,
    "slideshow": {
     "slide_type": "slide"
    }
   },
   "source": [
    "# Calculating the current speed"
   ]
  },
  {
   "cell_type": "markdown",
   "metadata": {
    "collapsed": false
   },
   "source": [
    "For the sake of example, let's say that our data file contained the zonal (east/west; 'UCUR') and meridional (north/south; 'VCUR') surface current components, but not the total current speed. To calculate it, we first need to assign a variable to the zonal and meridional current data."
   ]
  },
  {
   "cell_type": "code",
   "execution_count": 20,
   "metadata": {
    "collapsed": true
   },
   "outputs": [],
   "source": [
    "uData = acorn_DATA.variables['UCUR'][:,:,:]\n",
    "vData = acorn_DATA.variables['VCUR'][:,:,:]"
   ]
  },
  {
   "cell_type": "markdown",
   "metadata": {},
   "source": [
    "Both <i>uData</i> and <i>vData</i> are a special type of numpy array known as a masked array, whereby some of the points in the time/latitude/longitude grid have missing (or masked) values. Just as with a normal numpy array, we can check the shape of our data (in fact, masked arrays can do everything normal numpy arrays can do and more)."
   ]
  },
  {
   "cell_type": "code",
   "execution_count": 21,
   "metadata": {
    "collapsed": false
   },
   "outputs": [
    {
     "name": "stdout",
     "output_type": "stream",
     "text": [
      "<class 'numpy.ma.core.MaskedArray'>\n",
      "(493, 55, 57)\n"
     ]
    }
   ],
   "source": [
    "print type(uData)\n",
    "print uData.shape"
   ]
  },
  {
   "cell_type": "markdown",
   "metadata": {},
   "source": [
    "In other words, 493 time steps, 55 latitudes and 57 longitudes. We can now go ahead and calculate the current speed."
   ]
  },
  {
   "cell_type": "code",
   "execution_count": 22,
   "metadata": {
    "collapsed": true
   },
   "outputs": [],
   "source": [
    "spData = (uData**2 + vData**2)**0.5"
   ]
  },
  {
   "cell_type": "markdown",
   "metadata": {
    "slideshow": {
     "slide_type": "slide"
    }
   },
   "source": [
    "# Viewing Turquoise Bay uploaded dataset"
   ]
  },
  {
   "cell_type": "markdown",
   "metadata": {},
   "source": [
    "It's a good idea to regularly view your data throughout the code development process, just to ensure nothing that crazy has happened along the way. Below is a code except from this <a href='https://github.com/aodn/imos-user-code-library/blob/master/Python/demos/acorn.py'>example</a> in the AODN user code library, which simply plots one of the 493 timesteps."
   ]
  },
  {
   "cell_type": "code",
   "execution_count": 24,
   "metadata": {
    "collapsed": false
   },
   "outputs": [
    {
     "data": {
      "image/png": "[encoded data removed]",
      "text/plain": [
       "<matplotlib.figure.Figure at 0x7f91ef532a90>"
      ]
     },
     "metadata": {},
     "output_type": "display_data"
    }
   ],
   "source": [
    "LAT = acorn_DATA.variables['LATITUDE']\n",
    "LON = acorn_DATA.variables['LONGITUDE']\n",
    "TIME = acorn_DATA.variables['TIME']\n",
    "\n",
    "# Only one time value is being plotted. modify timeIndex if desired (value between 0 and length(timeData)-1 )\n",
    "timeIndex = 4\n",
    "speedData = spData[timeIndex,:,:]\n",
    "latData = LAT[:]\n",
    "lonData = LON[:]\n",
    "\n",
    "# sea water U and V components\n",
    "uData = acorn_DATA.variables['UCUR'][timeIndex,:,:]\n",
    "vData = acorn_DATA.variables['VCUR'][timeIndex,:,:]\n",
    "units = acorn_DATA.variables['UCUR'].units\n",
    "\n",
    "figure1 = figure(figsize=(8, 6), dpi=80, facecolor='w', edgecolor='k')\n",
    "pcolor(lonData , latData, speedData)\n",
    "cbar = colorbar()\n",
    "cbar.ax.set_ylabel('Current speed in ' + units)\n",
    "\n",
    "title(acorn_DATA.title + '\\n' + num2date(TIME[timeIndex], TIME.units, TIME.calendar).strftime('%d/%m/%Y'))\n",
    "xlabel(LON.long_name + ' in ' + LON.units)\n",
    "ylabel(LAT.long_name + ' in ' + LAT.units)\n",
    "\n",
    "#plot velocity field\n",
    "Q = quiver(lonData[:], latData[:], uData, vData, units='width')\n",
    "show()"
   ]
  },
  {
   "cell_type": "markdown",
   "metadata": {
    "collapsed": true,
    "slideshow": {
     "slide_type": "slide"
    }
   },
   "source": [
    "---\n",
    "Jump to notebook2 : <a href='https://ec2-52-11-155-224.us-west-2.compute.amazonaws.com:8888/notebooks/NB2-BuoyWW3.ipynb'> Go to notebook2 </a>\n",
    "\n",
    "---"
   ]
  }
 ],
 "metadata": {
  "kernelspec": {
   "display_name": "Python 2",
   "language": "python",
   "name": "python2"
  },
  "language_info": {
   "codemirror_mode": {
    "name": "ipython",
    "version": 2
   },
   "file_extension": ".py",
   "mimetype": "text/x-python",
   "name": "python",
   "nbconvert_exporter": "python",
   "pygments_lexer": "ipython2",
   "version": "2.7.6"
  }
 },
 "nbformat": 4,
 "nbformat_minor": 0
}
