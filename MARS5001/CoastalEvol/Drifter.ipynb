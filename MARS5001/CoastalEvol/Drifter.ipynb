{
 "cells": [
  {
   "cell_type": "markdown",
   "metadata": {},
   "source": [
    "# Modelling drifters from Ocean models output"
   ]
  },
  {
   "cell_type": "code",
   "execution_count": null,
   "metadata": {
    "collapsed": false
   },
   "outputs": [],
   "source": [
    "# Turning on inline plots -- just for use in ipython notebooks.\n",
    "%pylab inline"
   ]
  },
  {
   "cell_type": "markdown",
   "metadata": {},
   "source": [
    "# Initialization of a numerical experiment\n",
    "\n",
    "Before running a drifter simulation, a number of parameters need to be specified."
   ]
  },
  {
   "cell_type": "code",
   "execution_count": null,
   "metadata": {
    "collapsed": false
   },
   "outputs": [],
   "source": [
    "import numpy as np\n",
    "import datetime as dt\n",
    "import netCDF4 as netCDF\n",
    "import tracpy\n",
    "import tracpy.plotting\n",
    "from tracpy.tracpy_class import Tracpy"
   ]
  },
  {
   "cell_type": "markdown",
   "metadata": {},
   "source": [
    "# Hydrodynamic model output\n",
    "\n",
    "Model output from a high resolution model of the Texas-Louisiana shelf for the years 2004-2012 is stored on a thredds served at the address in loc. The hydrodynamic model which has been used for the output is the Regional Ocean Modeling System and the Terrain-following Ocean Modeling System (ROMS/TOMS)."
   ]
  },
  {
   "cell_type": "code",
   "execution_count": null,
   "metadata": {
    "collapsed": true
   },
   "outputs": [],
   "source": [
    "# Location of TXLA model output file and grid, on a thredds server.\n",
    "loc = 'http://barataria.tamu.edu:8080/thredds/dodsC/NcML/txla_nesting6.nc'"
   ]
  },
  {
   "cell_type": "markdown",
   "metadata": {},
   "source": [
    "# Time parameters\n",
    "\n",
    "Model output is known to occur every four hours. The default test here will start at 00:00 on November 25, 2009 and run for 3 days."
   ]
  },
  {
   "cell_type": "code",
   "execution_count": null,
   "metadata": {
    "collapsed": false
   },
   "outputs": [],
   "source": [
    "# Number of days to run the drifters.\n",
    "ndays = 3\n",
    "\n",
    "# Start date in date time formatting\n",
    "date = dt.datetime(2009, 11, 25, 0)\n",
    "\n",
    "# Time between outputs\n",
    "tseas = 4*3600 # 4 hours between outputs, in seconds \n",
    "\n",
    "# Time units\n",
    "time_units = 'seconds since 1970-01-01'"
   ]
  },
  {
   "cell_type": "markdown",
   "metadata": {},
   "source": [
    "The TRACMASS algorithm updates the u and v flux fields using a linear combination of the previous and subsequent time step every time a drifter passes a grid cell wall, or when the time for the drifter has reached the time of the second model output time step. This maximum time allowed can be decreased using the nsteps parameter, which divides the time between model outputs into smaller pieces that then act as the maximum time the drifter can travel without the time fields being updated. The importance of this will depend on the grid size, velocity fields, and time between model outputs.\n",
    "\n",
    "Separately, the user can choose how often to sample the drifter tracks. Since each drifter can experience a different number of steps, the N parameter is used to divide up the time between model output according to how often to have plot points for the drifters. N does not affect the drifter paths; it only controls the interval of sampling the drifter tracks. Linear interpolation is used to output drifter positions at the same times."
   ]
  },
  {
   "cell_type": "code",
   "execution_count": null,
   "metadata": {
    "collapsed": true
   },
   "outputs": [],
   "source": [
    "# Sets a smaller limit than between model outputs for when to force interpolation if hasn't already occurred.\n",
    "nsteps = 5\n",
    "# Controls the sampling frequency of the drifter tracks.\n",
    "N = 4"
   ]
  },
  {
   "cell_type": "markdown",
   "metadata": {},
   "source": [
    "After initialization, drifters can be stepped forward or backward in time. Running backward in time essentially means that we change the sign of the velocity fields and step backward in the model output files (in which case we set ff=-1). We'll move forward in time (ff=1)."
   ]
  },
  {
   "cell_type": "code",
   "execution_count": null,
   "metadata": {
    "collapsed": true
   },
   "outputs": [],
   "source": [
    "# Use ff = 1 for forward in time and ff = -1 for backward in time.\n",
    "ff = 1"
   ]
  },
  {
   "cell_type": "markdown",
   "metadata": {},
   "source": [
    "# Subgrid parameterization parameters\n",
    "\n",
    "An integer flag is used to control whether or not to use subgrid parameterization in the particle tracking, and if so, which kind.\n",
    "Options are:\n",
    "- `doturb=0` uses no sub grid parameterization and thus the drifters are passively advected according strictly to the output velocity fields\n",
    "- `doturb=1` adds to the current velocity fluxes parameterized turbulent velocity fluxes of the order of the current velocity fluxes\n",
    "- `doturb=2` adds to the calculated new drifter location a slightly displaced drifter location that is randomly placed based on a circle around the drifter location\n",
    "- `doturb=3` adds to the calculated new drifter location a slightly displaced drifter location that is randomly placed based on an ellipse of the bathymetry around the drifter location\n",
    "\n",
    "The horizontal and vertical diffusivities are set by the user. These values may or may not be used in the experiment depending on whether a subgrid parameterization is used, and, if so, which is used. The horizontal diffusivity value is used by all of the horizontal subgrid parameterizations. The vertical diffusivity is not used in the two-dimensional case. Since this experiment is not using either diffusivity values, they will be set to zero to avoid confusion.\n",
    "\n",
    "Appropriate values to use for this are currently being investigated using sensitivity studies on the Texas-Louisiana shelf. Some values have been used and compared in studies, and values can be calculated from physical drifters for a specific domain. This is on-going work! In a sensitivity study, a smaller value, like ah=5, leads to somewhat diffused results that are still very close to the non-diffusive case. A larger value of ah=20 led to more diffused results that were still quite similar to the non-diffusive case."
   ]
  },
  {
   "cell_type": "code",
   "execution_count": null,
   "metadata": {
    "collapsed": true
   },
   "outputs": [],
   "source": [
    "ah = 0. # m^2/s\n",
    "av = 0. # m^2/s\n",
    "\n",
    "# turbulence/diffusion flag\n",
    "doturb = 0"
   ]
  },
  {
   "cell_type": "markdown",
   "metadata": {},
   "source": [
    "# File saving\n",
    "\n",
    "The input name will be used for saving the particle tracks into a netCDF file and for the figures."
   ]
  },
  {
   "cell_type": "code",
   "execution_count": null,
   "metadata": {
    "collapsed": true
   },
   "outputs": [],
   "source": [
    "# simulation name, used for saving results into netcdf file\n",
    "name = 'simulation1'"
   ]
  },
  {
   "cell_type": "markdown",
   "metadata": {},
   "source": [
    "## Vertical\n",
    "\n",
    "There are a number of options for the initial vertical placement of the drifters. The behavior is controlled by the combination of `z0` and `zpar`, and `do3d` must be set accordingly as well.\n",
    "\n",
    "The `do3d` flag controls whether or not drifters are allowed to move vertically or not:\n",
    "- `do3d=0` for two-dimensional particle tracking\n",
    "- `do3d=1` for three-dimensional particle tracking\n",
    "\n",
    "For 3D tracking, set `do3d=1` and `z0` should be an array of initial drifter depths. The array should be the same size as `lon0` and negative for under water. Currently, drifter depths need to be above the seabed for every (x, y) particle location for the script to run.\n",
    "\n",
    "To do 3D but start at surface, use `z0 = zeros(lon0.shape)` and have either `zpar='fromMSL'` so that z0 starting depths represent that depth below the base, time-independent sea level (or mean sea level) or choose `zpar='fromZeta'` to have `z0` starting depths represent that depth below the time-dependent sea surface. Currently only the `zpar='fromZeta'` case is coded up.\n",
    "\n",
    "For 2D drifter movement, set `do3d=0`. Then there are the following options:\n",
    "- set `z0` to 's' for 2D along a terrain-following slice and `zpar` to be the index of s level you want to use (0 to km-1)\n",
    "- set `z0` to 'rho' for 2D along a density surface and `zpar` to be the density value you want to use. Can do the same thing with salinity (`'salt'`) or temperature (`'temp'`). The model output doesn't currently have density.\n",
    "- set `z0` to 'z' for 2D along a depth slice and `zpar` to be the constant (negative) depth value you want to use\n",
    "- To simulate drifters at the surface, set `z0` to 's' and `zpar = grid['km']-1` (whatever that value is) to put them in the upper s level. This is probably the most common option."
   ]
  },
  {
   "cell_type": "code",
   "execution_count": null,
   "metadata": {
    "collapsed": true
   },
   "outputs": [],
   "source": [
    "# for 3d flag, do3d=0 makes the run 2d and do3d=1 makes the run 3d\n",
    "do3d = 0\n",
    "\n",
    "## Choose method for vertical placement of drifters\n",
    "z0 = 's' \n",
    "num_layers = 30\n",
    "zpar = num_layers-1 "
   ]
  },
  {
   "cell_type": "markdown",
   "metadata": {},
   "source": [
    "# Initialize TracPy class"
   ]
  },
  {
   "cell_type": "code",
   "execution_count": null,
   "metadata": {
    "collapsed": true
   },
   "outputs": [],
   "source": [
    "# Initialize Tracpy class\n",
    "tp = Tracpy(loc, name=name, tseas=tseas, ndays=ndays, nsteps=nsteps, usebasemap=True,\n",
    "            N=N, ff=ff, ah=ah, av=av, doturb=doturb, do3d=do3d, z0=z0, zpar=zpar, time_units=time_units)"
   ]
  },
  {
   "cell_type": "code",
   "execution_count": null,
   "metadata": {
    "collapsed": true
   },
   "outputs": [],
   "source": [
    "# read in grid\n",
    "tp._readgrid()"
   ]
  },
  {
   "cell_type": "markdown",
   "metadata": {},
   "source": [
    "# Drifter initialization\n",
    "\n",
    "## Horizontal\n",
    "\n",
    "Drifters are seeded by the latitude and longitude. A simple way to do this is to set up a mesh of points within a lat/lon box. In this case, we are looking at drifters starting throughout the TX-LA shelf domain. For the linspace function, we can play around with the number of points to control approximately how far apart the drifters begin. For this example, the number of points are about 20 km apart.\n",
    "\n",
    "After initializing these points, we can run them through a check script to eliminate points outside the domain (without this step, points outside the numerical domain will cause an error)."
   ]
  },
  {
   "cell_type": "code",
   "execution_count": null,
   "metadata": {
    "collapsed": false
   },
   "outputs": [],
   "source": [
    "# Input starting locations as real space lon,lat locations\n",
    "lon0, lat0 = np.meshgrid(np.linspace(-98.5,-87.5,55), \\\n",
    "                            np.linspace(22.5,31,49)) # whole domain, 20 km\n",
    "\n",
    "# Eliminate points that are outside domain or in masked areas\n",
    "lon0, lat0 = tracpy.tools.check_points(lon0, lat0, tp.grid)"
   ]
  },
  {
   "cell_type": "markdown",
   "metadata": {},
   "source": [
    "# Run the numerical experiment"
   ]
  },
  {
   "cell_type": "code",
   "execution_count": null,
   "metadata": {
    "collapsed": false
   },
   "outputs": [],
   "source": [
    "# Note in timing that the grid was already read in\n",
    "lonp, latp, zp, t, T0, U, V = tracpy.run.run(tp, date, lon0, lat0)"
   ]
  },
  {
   "cell_type": "markdown",
   "metadata": {},
   "source": [
    "# Plotting the results\n",
    "\n",
    "## Plotting tracks"
   ]
  },
  {
   "cell_type": "code",
   "execution_count": null,
   "metadata": {
    "collapsed": false
   },
   "outputs": [],
   "source": [
    "tracpy.plotting.tracks(lonp, latp, tp.name, tp.grid)"
   ]
  },
  {
   "cell_type": "markdown",
   "metadata": {},
   "source": [
    "## Terminal/origin histograms\n",
    "\n",
    "A histogram can quickly show where particles end up (for forward time case) or where particles originated (for backward time case)."
   ]
  },
  {
   "cell_type": "code",
   "execution_count": null,
   "metadata": {
    "collapsed": false
   },
   "outputs": [],
   "source": [
    "tracpy.plotting.hist(lonp, latp, tp.name, grid=tp.grid, which='hexbin', bins=(50,50))"
   ]
  },
  {
   "cell_type": "code",
   "execution_count": null,
   "metadata": {
    "collapsed": true
   },
   "outputs": [],
   "source": []
  }
 ],
 "metadata": {
  "kernelspec": {
   "display_name": "Python 2",
   "language": "python",
   "name": "python2"
  },
  "language_info": {
   "codemirror_mode": {
    "name": "ipython",
    "version": 2
   },
   "file_extension": ".py",
   "mimetype": "text/x-python",
   "name": "python",
   "nbconvert_exporter": "python",
   "pygments_lexer": "ipython2",
   "version": "2.7.6"
  }
 },
 "nbformat": 4,
 "nbformat_minor": 0
}
