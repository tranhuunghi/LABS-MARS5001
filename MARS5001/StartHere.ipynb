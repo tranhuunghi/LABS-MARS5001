{
 "cells": [
  {
   "cell_type": "markdown",
   "metadata": {},
   "source": [
    "## Sample Jupyter / iPython notebook\n",
    "\n",
    "Tristan Salles \n",
    "School of Geosciences  \n",
    "University of Sydney  \n",
    "[tristan.salles@sydney.edu.au](mailto:tristan.salles@sydney.edu.au) \n",
    "\n",
    "### Docker containers\n",
    "\n",
    "This notebook \n",
    "\n",
    "\n",
    "### Quick links\n",
    "\n",
    " - [This Page](/notebooks/StartHere.ipynb)\n",
    " - [Browse](/notebooks/) the jupyter filesystem, create and edit notebooks\n",
    " \n",
    "\n",
    "### What is this ?\n",
    "\n",
    "\n",
    "This is an example of the iPython / Jupyter notebook system. They are a form of literate programming in which we can mix textbook instruction and explanations with code (in this case, python) that can also be run and edited. The text and mathematics in the notebooks requires a little preliminary learning. \n",
    "\n",
    "The notebook system also includes a file browser which also allows you to add your own notebook, add a text file or start a terminal on the machine running this notebook. \n",
    "\n",
    "**NOTE that this content is ephemeral - it will disappear with the container if you do not capture the output by mounting the volume or copying the data to your local machine.**\n",
    "\n",
    "\n",
    "### Markdown\n",
    "\n",
    "You can document your iPython notebooks by making some cells into **Markdown** cells. Markdown is a way of formatting text that is supposed to be almost as readable un-rendered as when it is tidied up. You might argue that it looks equally bad either way, but that's tough because the notebooks use it and that's how I want you to produce nice looking output to hand in as an assignment !\n",
    "\n",
    "If you look at the **Markdown** cells as source code (by double-clicking on them) you will see how the raw text looks. To get back to the pretty version of the text, hit shift-enter.\n",
    "\n",
    "### Maths\n",
    "\n",
    "In a browser, you can render beautiful equations using a javascript tool called **Mathjax** which is build into the iPython notebooks. \n",
    "\n",
    "\n",
    "You can build in symbols to your text such as $\\pi$ and $\\epsilon$ if you use the \\$ signs to indicate where your equations begin and end, and you know enough $\\LaTeX$ [try it here !](http://www.codecogs.com/latex/eqneditor.php) to get by.\n",
    "\n",
    "\n",
    "Equations in 'display' mode are written like this (again look at the source for this cell to see what is used)\n",
    "\n",
    "\\\\[ e^{i\\pi} + 1 = 0 \\\\]\n",
    "\n",
    "or even like this\n",
    "\n",
    "\\begin{equation}\n",
    "%%\n",
    "    \\nabla^4 \\psi = \\frac{\\partial T}{\\partial x}\n",
    "%%    \n",
    "\\end{equation}\n",
    "\n",
    "Go back to the rendered form of the cell by 'running' it.\n",
    "\n",
    "### Links \n",
    "\n",
    "[Markdown Website](http://daringfireball.net/projects/markdown/)  \n",
    "[Mathjax Website](http://docs.mathjax.org)  \n",
    "[Jupyter Notebooks](http://www.jupyter.org)\n",
    "\n",
    "\n"
   ]
  },
  {
   "cell_type": "code",
   "execution_count": null,
   "metadata": {
    "collapsed": false
   },
   "outputs": [],
   "source": [
    "## This is a live notebook where you can execute python code\n",
    "\n",
    "print \"Hello world\"\n"
   ]
  },
  {
   "cell_type": "code",
   "execution_count": null,
   "metadata": {
    "collapsed": false
   },
   "outputs": [],
   "source": [
    "%%sh\n",
    "\n",
    "## This cell is now running shell (bash) commands\n",
    "\n",
    "ls -l\n",
    "echo \"---\"\n",
    "\n",
    "whoami\n",
    "echo \"---\"\n",
    "\n",
    "uname -a\n",
    "echo \"---\"\n"
   ]
  },
  {
   "cell_type": "code",
   "execution_count": null,
   "metadata": {
    "collapsed": true
   },
   "outputs": [],
   "source": [
    "# A blank canvas\n",
    "\n",
    "## Feel free to run your own code in this cell (then hit shift-return to execute it)\n",
    "\n"
   ]
  }
 ],
 "metadata": {
  "kernelspec": {
   "display_name": "Python 2",
   "language": "python",
   "name": "python2"
  },
  "language_info": {
   "codemirror_mode": {
    "name": "ipython",
    "version": 2
   },
   "file_extension": ".py",
   "mimetype": "text/x-python",
   "name": "python",
   "nbconvert_exporter": "python",
   "pygments_lexer": "ipython2",
   "version": "2.7.6"
  }
 },
 "nbformat": 4,
 "nbformat_minor": 0
}
